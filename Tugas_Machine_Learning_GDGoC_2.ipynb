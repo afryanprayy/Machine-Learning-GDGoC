{
  "nbformat": 4,
  "nbformat_minor": 0,
  "metadata": {
    "colab": {
      "provenance": []
    },
    "kernelspec": {
      "name": "python3",
      "display_name": "Python 3"
    },
    "language_info": {
      "name": "python"
    }
  },
  "cells": [
    {
      "cell_type": "markdown",
      "source": [
        "Import Library"
      ],
      "metadata": {
        "id": "cHNB1FbdsE7t"
      }
    },
    {
      "cell_type": "code",
      "execution_count": 44,
      "metadata": {
        "collapsed": true,
        "id": "_x5YHRPGnLrM"
      },
      "outputs": [],
      "source": [
        "import pandas as pd\n",
        "import numpy as np\n",
        "import matplotlib.pyplot as plt\n",
        "import seaborn as sns\n",
        "import os\n",
        "from sklearn.preprocessing import StandardScaler, MinMaxScaler, LabelEncoder\n",
        "from sklearn.impute import SimpleImputer\n",
        "from scipy import stats"
      ]
    },
    {
      "cell_type": "markdown",
      "source": [
        "# Import Dataset"
      ],
      "metadata": {
        "id": "5P0kb85aqZ_-"
      }
    },
    {
      "cell_type": "code",
      "source": [
        "datasets = {\n",
        "    \"MBP\": pd.read_csv(\"/content/MBP.csv\"),\n",
        "    \"LTP\": pd.read_csv(\"/content/LTP.csv\", encoding='latin-1'),\n",
        "    \"HSP\": pd.read_csv(\"/content/HSP.csv\"),\n",
        "    \"FDC\": pd.read_csv(\"/content/FDC.csv\"),\n",
        "    \"STP\": pd.read_csv(\"/content/STP.csv\")\n",
        "}"
      ],
      "metadata": {
        "id": "m5mECURPqVyW"
      },
      "execution_count": 45,
      "outputs": []
    },
    {
      "cell_type": "markdown",
      "source": [
        "# Handle Missing Data"
      ],
      "metadata": {
        "id": "a1edR9lMqub9"
      }
    },
    {
      "cell_type": "code",
      "source": [
        "def handle_missing_data(df):\n",
        "    for col in df.columns:\n",
        "        if df[col].isnull().sum() > 0:\n",
        "            if df[col].dtype == 'object':\n",
        "                df[col].fillna('Missing', inplace=True)\n",
        "            else:\n",
        "                df[col].fillna(df[col].median(), inplace=True)\n",
        "    return df"
      ],
      "metadata": {
        "id": "gjVE9y7XqfAt"
      },
      "execution_count": 46,
      "outputs": []
    },
    {
      "cell_type": "markdown",
      "source": [
        "# Remove Duplicates Data"
      ],
      "metadata": {
        "id": "nc6dK7qtqzHu"
      }
    },
    {
      "cell_type": "code",
      "source": [
        "def remove_duplicates(df):\n",
        "    return df.drop_duplicates()"
      ],
      "metadata": {
        "id": "KVMlzN2yqzd2"
      },
      "execution_count": 47,
      "outputs": []
    },
    {
      "cell_type": "markdown",
      "source": [
        "# Outliers Engineering"
      ],
      "metadata": {
        "id": "eZVglxJmq8Nl"
      }
    },
    {
      "cell_type": "code",
      "source": [
        "def handle_outliers(df):\n",
        "    numeric_cols = df.select_dtypes(include=[np.number]).columns\n",
        "    for col in numeric_cols:\n",
        "        z_scores = np.abs(stats.zscore(df[col]))\n",
        "        upper_limit = df[col].quantile(0.95)\n",
        "        lower_limit = df[col].quantile(0.05)\n",
        "        df[col] = np.clip(df[col], lower_limit, upper_limit)\n",
        "    return df"
      ],
      "metadata": {
        "id": "l9uyXBrEq791"
      },
      "execution_count": 48,
      "outputs": []
    },
    {
      "cell_type": "markdown",
      "source": [
        "# Feature Scaling"
      ],
      "metadata": {
        "id": "7A37ioIbrLim"
      }
    },
    {
      "cell_type": "code",
      "source": [
        "def scale_features(df):\n",
        "    scaler = MinMaxScaler()\n",
        "    numeric_cols = df.select_dtypes(include=[np.number]).columns\n",
        "    df[numeric_cols] = scaler.fit_transform(df[numeric_cols])\n",
        "    return df"
      ],
      "metadata": {
        "id": "ZRxVNPrTrLsG"
      },
      "execution_count": 49,
      "outputs": []
    },
    {
      "cell_type": "markdown",
      "source": [
        "# Categorical Encoding"
      ],
      "metadata": {
        "id": "VCCTR8-BrR4-"
      }
    },
    {
      "cell_type": "code",
      "source": [
        "def encode_categorical(df):\n",
        "    cat_cols = df.select_dtypes(include=['object']).columns\n",
        "    encoder = LabelEncoder()\n",
        "    for col in cat_cols:\n",
        "        df[col] = encoder.fit_transform(df[col])\n",
        "    return df"
      ],
      "metadata": {
        "id": "cRGIOXSkrSFu"
      },
      "execution_count": 50,
      "outputs": []
    },
    {
      "cell_type": "markdown",
      "source": [
        "# Apply Preprocessing ke Semua Dataset"
      ],
      "metadata": {
        "id": "EzEnDoYWri72"
      }
    },
    {
      "cell_type": "code",
      "source": [
        "for name, df in datasets.items():\n",
        "    print(f\"Processing {name} dataset...\")\n",
        "    df_before = df.describe(include='all')\n",
        "    df = handle_missing_data(df)\n",
        "    df = remove_duplicates(df)\n",
        "    df = handle_outliers(df)\n",
        "    df = scale_features(df)\n",
        "    df = encode_categorical(df)\n",
        "    datasets[name] = df\n",
        "\n",
        "    output_dir = \"/mnt/data\"\n",
        "    if not os.path.exists(output_dir):\n",
        "        os.makedirs(output_dir)\n",
        "\n",
        "    df.to_csv(f\"{output_dir}/{name}_processed.csv\", index=False)\n",
        "    print(f\"{name} dataset processed and saved.\")"
      ],
      "metadata": {
        "colab": {
          "base_uri": "https://localhost:8080/"
        },
        "id": "rdJLaZZIria2",
        "outputId": "ed5f67fb-3f36-429f-8aad-447bb3585acf"
      },
      "execution_count": 51,
      "outputs": [
        {
          "output_type": "stream",
          "name": "stdout",
          "text": [
            "Processing MBP dataset...\n",
            "MBP dataset processed and saved.\n",
            "Processing LTP dataset...\n",
            "LTP dataset processed and saved.\n",
            "Processing HSP dataset...\n"
          ]
        },
        {
          "output_type": "stream",
          "name": "stderr",
          "text": [
            "<ipython-input-46-26dc7771dcce>:5: FutureWarning: A value is trying to be set on a copy of a DataFrame or Series through chained assignment using an inplace method.\n",
            "The behavior will change in pandas 3.0. This inplace method will never work because the intermediate object on which we are setting values always behaves as a copy.\n",
            "\n",
            "For example, when doing 'df[col].method(value, inplace=True)', try using 'df.method({col: value}, inplace=True)' or df[col] = df[col].method(value) instead, to perform the operation inplace on the original object.\n",
            "\n",
            "\n",
            "  df[col].fillna('Missing', inplace=True)\n",
            "<ipython-input-48-2a91bed2c377>:7: SettingWithCopyWarning: \n",
            "A value is trying to be set on a copy of a slice from a DataFrame.\n",
            "Try using .loc[row_indexer,col_indexer] = value instead\n",
            "\n",
            "See the caveats in the documentation: https://pandas.pydata.org/pandas-docs/stable/user_guide/indexing.html#returning-a-view-versus-a-copy\n",
            "  df[col] = np.clip(df[col], lower_limit, upper_limit)\n",
            "<ipython-input-49-b3d2af488ec8>:4: SettingWithCopyWarning: \n",
            "A value is trying to be set on a copy of a slice from a DataFrame.\n",
            "Try using .loc[row_indexer,col_indexer] = value instead\n",
            "\n",
            "See the caveats in the documentation: https://pandas.pydata.org/pandas-docs/stable/user_guide/indexing.html#returning-a-view-versus-a-copy\n",
            "  df[numeric_cols] = scaler.fit_transform(df[numeric_cols])\n",
            "<ipython-input-50-f467b3f7e603>:5: SettingWithCopyWarning: \n",
            "A value is trying to be set on a copy of a slice from a DataFrame.\n",
            "Try using .loc[row_indexer,col_indexer] = value instead\n",
            "\n",
            "See the caveats in the documentation: https://pandas.pydata.org/pandas-docs/stable/user_guide/indexing.html#returning-a-view-versus-a-copy\n",
            "  df[col] = encoder.fit_transform(df[col])\n",
            "<ipython-input-50-f467b3f7e603>:5: SettingWithCopyWarning: \n",
            "A value is trying to be set on a copy of a slice from a DataFrame.\n",
            "Try using .loc[row_indexer,col_indexer] = value instead\n",
            "\n",
            "See the caveats in the documentation: https://pandas.pydata.org/pandas-docs/stable/user_guide/indexing.html#returning-a-view-versus-a-copy\n",
            "  df[col] = encoder.fit_transform(df[col])\n",
            "<ipython-input-50-f467b3f7e603>:5: SettingWithCopyWarning: \n",
            "A value is trying to be set on a copy of a slice from a DataFrame.\n",
            "Try using .loc[row_indexer,col_indexer] = value instead\n",
            "\n",
            "See the caveats in the documentation: https://pandas.pydata.org/pandas-docs/stable/user_guide/indexing.html#returning-a-view-versus-a-copy\n",
            "  df[col] = encoder.fit_transform(df[col])\n",
            "<ipython-input-50-f467b3f7e603>:5: SettingWithCopyWarning: \n",
            "A value is trying to be set on a copy of a slice from a DataFrame.\n",
            "Try using .loc[row_indexer,col_indexer] = value instead\n",
            "\n",
            "See the caveats in the documentation: https://pandas.pydata.org/pandas-docs/stable/user_guide/indexing.html#returning-a-view-versus-a-copy\n",
            "  df[col] = encoder.fit_transform(df[col])\n",
            "<ipython-input-50-f467b3f7e603>:5: SettingWithCopyWarning: \n",
            "A value is trying to be set on a copy of a slice from a DataFrame.\n",
            "Try using .loc[row_indexer,col_indexer] = value instead\n",
            "\n",
            "See the caveats in the documentation: https://pandas.pydata.org/pandas-docs/stable/user_guide/indexing.html#returning-a-view-versus-a-copy\n",
            "  df[col] = encoder.fit_transform(df[col])\n",
            "<ipython-input-50-f467b3f7e603>:5: SettingWithCopyWarning: \n",
            "A value is trying to be set on a copy of a slice from a DataFrame.\n",
            "Try using .loc[row_indexer,col_indexer] = value instead\n",
            "\n",
            "See the caveats in the documentation: https://pandas.pydata.org/pandas-docs/stable/user_guide/indexing.html#returning-a-view-versus-a-copy\n",
            "  df[col] = encoder.fit_transform(df[col])\n",
            "<ipython-input-50-f467b3f7e603>:5: SettingWithCopyWarning: \n",
            "A value is trying to be set on a copy of a slice from a DataFrame.\n",
            "Try using .loc[row_indexer,col_indexer] = value instead\n",
            "\n",
            "See the caveats in the documentation: https://pandas.pydata.org/pandas-docs/stable/user_guide/indexing.html#returning-a-view-versus-a-copy\n",
            "  df[col] = encoder.fit_transform(df[col])\n",
            "<ipython-input-50-f467b3f7e603>:5: SettingWithCopyWarning: \n",
            "A value is trying to be set on a copy of a slice from a DataFrame.\n",
            "Try using .loc[row_indexer,col_indexer] = value instead\n",
            "\n",
            "See the caveats in the documentation: https://pandas.pydata.org/pandas-docs/stable/user_guide/indexing.html#returning-a-view-versus-a-copy\n",
            "  df[col] = encoder.fit_transform(df[col])\n",
            "<ipython-input-50-f467b3f7e603>:5: SettingWithCopyWarning: \n",
            "A value is trying to be set on a copy of a slice from a DataFrame.\n",
            "Try using .loc[row_indexer,col_indexer] = value instead\n",
            "\n",
            "See the caveats in the documentation: https://pandas.pydata.org/pandas-docs/stable/user_guide/indexing.html#returning-a-view-versus-a-copy\n",
            "  df[col] = encoder.fit_transform(df[col])\n",
            "<ipython-input-50-f467b3f7e603>:5: SettingWithCopyWarning: \n",
            "A value is trying to be set on a copy of a slice from a DataFrame.\n",
            "Try using .loc[row_indexer,col_indexer] = value instead\n",
            "\n",
            "See the caveats in the documentation: https://pandas.pydata.org/pandas-docs/stable/user_guide/indexing.html#returning-a-view-versus-a-copy\n",
            "  df[col] = encoder.fit_transform(df[col])\n",
            "<ipython-input-46-26dc7771dcce>:7: FutureWarning: A value is trying to be set on a copy of a DataFrame or Series through chained assignment using an inplace method.\n",
            "The behavior will change in pandas 3.0. This inplace method will never work because the intermediate object on which we are setting values always behaves as a copy.\n",
            "\n",
            "For example, when doing 'df[col].method(value, inplace=True)', try using 'df.method({col: value}, inplace=True)' or df[col] = df[col].method(value) instead, to perform the operation inplace on the original object.\n",
            "\n",
            "\n",
            "  df[col].fillna(df[col].median(), inplace=True)\n",
            "<ipython-input-46-26dc7771dcce>:5: FutureWarning: A value is trying to be set on a copy of a DataFrame or Series through chained assignment using an inplace method.\n",
            "The behavior will change in pandas 3.0. This inplace method will never work because the intermediate object on which we are setting values always behaves as a copy.\n",
            "\n",
            "For example, when doing 'df[col].method(value, inplace=True)', try using 'df.method({col: value}, inplace=True)' or df[col] = df[col].method(value) instead, to perform the operation inplace on the original object.\n",
            "\n",
            "\n",
            "  df[col].fillna('Missing', inplace=True)\n",
            "/usr/local/lib/python3.11/dist-packages/numpy/core/fromnumeric.py:59: FutureWarning: Downcasting behavior in Series and DataFrame methods 'where', 'mask', and 'clip' is deprecated. In a future version this will not infer object dtypes or cast all-round floats to integers. Instead call result.infer_objects(copy=False) for object inference, or cast round floats explicitly. To opt-in to the future behavior, set `pd.set_option('future.no_silent_downcasting', True)`\n",
            "  return bound(*args, **kwds)\n"
          ]
        },
        {
          "output_type": "stream",
          "name": "stdout",
          "text": [
            "HSP dataset processed and saved.\n",
            "Processing FDC dataset...\n"
          ]
        },
        {
          "output_type": "stream",
          "name": "stderr",
          "text": [
            "<ipython-input-46-26dc7771dcce>:5: FutureWarning: A value is trying to be set on a copy of a DataFrame or Series through chained assignment using an inplace method.\n",
            "The behavior will change in pandas 3.0. This inplace method will never work because the intermediate object on which we are setting values always behaves as a copy.\n",
            "\n",
            "For example, when doing 'df[col].method(value, inplace=True)', try using 'df.method({col: value}, inplace=True)' or df[col] = df[col].method(value) instead, to perform the operation inplace on the original object.\n",
            "\n",
            "\n",
            "  df[col].fillna('Missing', inplace=True)\n",
            "<ipython-input-46-26dc7771dcce>:7: FutureWarning: A value is trying to be set on a copy of a DataFrame or Series through chained assignment using an inplace method.\n",
            "The behavior will change in pandas 3.0. This inplace method will never work because the intermediate object on which we are setting values always behaves as a copy.\n",
            "\n",
            "For example, when doing 'df[col].method(value, inplace=True)', try using 'df.method({col: value}, inplace=True)' or df[col] = df[col].method(value) instead, to perform the operation inplace on the original object.\n",
            "\n",
            "\n",
            "  df[col].fillna(df[col].median(), inplace=True)\n"
          ]
        },
        {
          "output_type": "stream",
          "name": "stdout",
          "text": [
            "FDC dataset processed and saved.\n",
            "Processing STP dataset...\n",
            "STP dataset processed and saved.\n"
          ]
        },
        {
          "output_type": "stream",
          "name": "stderr",
          "text": [
            "<ipython-input-46-26dc7771dcce>:5: FutureWarning: A value is trying to be set on a copy of a DataFrame or Series through chained assignment using an inplace method.\n",
            "The behavior will change in pandas 3.0. This inplace method will never work because the intermediate object on which we are setting values always behaves as a copy.\n",
            "\n",
            "For example, when doing 'df[col].method(value, inplace=True)', try using 'df.method({col: value}, inplace=True)' or df[col] = df[col].method(value) instead, to perform the operation inplace on the original object.\n",
            "\n",
            "\n",
            "  df[col].fillna('Missing', inplace=True)\n"
          ]
        }
      ]
    },
    {
      "cell_type": "markdown",
      "source": [
        "# Summary"
      ],
      "metadata": {
        "id": "9koeOeimr9At"
      }
    },
    {
      "cell_type": "code",
      "source": [
        "for name, df in datasets.items():\n",
        "    print(f\"{name} dataset shape: {df.shape}\")"
      ],
      "metadata": {
        "colab": {
          "base_uri": "https://localhost:8080/"
        },
        "id": "I-wSfnTgr_b2",
        "outputId": "81ea579f-59d5-43b4-9865-638d8fc8bd43"
      },
      "execution_count": 52,
      "outputs": [
        {
          "output_type": "stream",
          "name": "stdout",
          "text": [
            "MBP dataset shape: (1767, 11)\n",
            "LTP dataset shape: (1303, 13)\n",
            "HSP dataset shape: (1460, 81)\n",
            "FDC dataset shape: (125, 61)\n",
            "STP dataset shape: (1044, 35)\n"
          ]
        }
      ]
    }
  ]
}